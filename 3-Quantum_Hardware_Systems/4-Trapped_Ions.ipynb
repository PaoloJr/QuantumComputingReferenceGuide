{
 "cells": [
  {
   "cell_type": "markdown",
   "metadata": {},
   "source": [
    "## 3.4 Trapped ions\n",
    "\n",
    "![text](image/ion.png)\n",
    "\n",
    "Another way to utilize electron spin is by controlling ions. An ion is formed by removing or adding electrons\n",
    "to an atom. This is called ionization. If we have one extra or one fewer electron, we can have an effective\n",
    "spin up or spin down. We can then apply an electro-magnetic field to trap the ions into a row in a vacuum.\n",
    "Their spin will align with the magnetic field initially.\n",
    "\n",
    "![text](image/ion_trap_laser_line.png)\n",
    "\n",
    "In a simplified picture, each ion acts as a qubit. By illuminating focused laser beams onto individual\n",
    "ions, we can tweak their spins to point in a different direction, hence manipulating the qubit state. This is\n",
    "because lasers emit electro-magnetic waves, which generates forces to move the ions.\n",
    "\n",
    "![text](image/ion_trap_laser_beam.png)\n",
    "\n",
    "In fact, the interaction between the laser light and the ions is quite a bit more complex. Electrons\n",
    "bound by atoms or ions are not free floating. There are discrete sets of energy levels for electrons to\n",
    "occupy. Because electrons have spin, certain energy levels are for spin up electrons while others are for\n",
    "spin down electrons. The set of energy levels to accommodate electron spins is called a _fine structure_ of\n",
    "an atom or ion. There are also electromagnetic interactions between the electrons and nucleus. Some\n",
    "energy levels further split. This is called a _hyperfine structure_. In trapped-ion quantum computing systems,\n",
    "the fine structures are used as the qubit |0⟩ and |1⟩ states and the hyperfine structure is used to aid\n",
    "transition between the states.\n",
    "\n",
    "What the focused laser light does is not only moving the ions by force, it also can give electrons a\n",
    "certain energy to enable transition from one energy level to another, effectively rotating the spin. That's\n",
    "why the picture above shows a displacement of the ion's position as well as a spin flip. The gate operations\n",
    "and entanglement are achieved by manipulating each ion with individual laser beams and letting nearby\n",
    "ions interact through their electrons' spins and physical displacement. Note this is still a much-simplified\n",
    "explanation.\n",
    "\n",
    "![text](image/fine_structure.png)\n",
    "\n",
    "While trapping and manipulating ions in vacuum provides a \"clean\" way to create qubits, the\n",
    "complex optical setup is very difficult to scale. Current state-of -the-art of the number of ions that can be\n",
    "trapped is around 20."
   ]
  },
  {
   "cell_type": "code",
   "execution_count": null,
   "metadata": {},
   "outputs": [],
   "source": []
  }
 ],
 "metadata": {
  "language_info": {
   "codemirror_mode": {
    "name": "ipython",
    "version": 3
   },
   "file_extension": ".py",
   "mimetype": "text/x-python",
   "name": "python",
   "nbconvert_exporter": "python",
   "pygments_lexer": "ipython3",
   "version": "3.8.3-final"
  },
  "orig_nbformat": 2,
  "kernelspec": {
   "name": "python38364bitnbcondaaa7c644822a049159278fba6858d45ff",
   "display_name": "Python 3.8.3 64-bit ('nb': conda)"
  }
 },
 "nbformat": 4,
 "nbformat_minor": 2
}