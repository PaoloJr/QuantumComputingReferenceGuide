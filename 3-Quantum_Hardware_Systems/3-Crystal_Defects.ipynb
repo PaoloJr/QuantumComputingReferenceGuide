{
 "cells": [
  {
   "cell_type": "markdown",
   "metadata": {},
   "source": [
    "## 3.3 Crystal defects\n",
    "\n",
    "We can also trap electrons in crystal lattices, such as diamond or silicon. Imagine a carbon atom (which\n",
    "has six electrons) inside diamond is replaced by a nitrogen atom (which has seven electrons). The nitrogen\n",
    "atom introduces a vacancy and an extra electron to the lattice. This electron is bound to the nitrogen-\n",
    "vacancy region (called the \"NV center\"). Its spin can be manipulated with a focused laser light – an\n",
    "electromagnetic field. Qubits made from crystal defects can be isolated from noise. But practically it is\n",
    "hard to scale due to difficulty in growing crystal defects in the lab.\n",
    "\n",
    "![Figure vacancy](image/vacancy.png)"
   ]
  },
  {
   "cell_type": "code",
   "execution_count": null,
   "metadata": {},
   "outputs": [],
   "source": []
  }
 ],
 "metadata": {
  "language_info": {
   "codemirror_mode": {
    "name": "ipython",
    "version": 3
   },
   "file_extension": ".py",
   "mimetype": "text/x-python",
   "name": "python",
   "nbconvert_exporter": "python",
   "pygments_lexer": "ipython3",
   "version": "3.8.3-final"
  },
  "orig_nbformat": 2,
  "kernelspec": {
   "name": "python38332bit225b1603132a4a1f9abff16033481403",
   "display_name": "Python 3.8.3 32-bit"
  }
 },
 "nbformat": 4,
 "nbformat_minor": 2
}